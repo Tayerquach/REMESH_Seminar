# ! pip3 install gdown
# ! pip3 install zipfile
# ! pip3 install neurora





import numpy as np
import matplotlib.pyplot as plt
import sys
import os
from six.moves import urllib
import gdown
import zipfile
from scipy.io import loadmat       # Import function to read data.
from neurora.decoding import tbyt_decoding_kfold
from neurora.rsa_plot import plot_tbyt_decoding_acc, plot_rdm, plot_tbytsim_withstats
from neurora.rdm_cal import eegRDM
from neurora.corr_cal_by_rdm import rdms_corr
from IPython.lib.display import YouTubeVideo

















data_dir = 'seminar_data/'
if not os.path.exists(data_dir):
    os.makedirs(data_dir)


print('================ Demo - Binary Classification ================')

id = '13bCcdHGVfU6-ahgu95d-W5hkwPAmvNB-'
filename = 'data1.zip'
filepath = data_dir + filename

# Download the data
gdown.download(id=id, output=filepath, quiet=False, fuzzy=True)
print('Download completes!')
# unzip the data
with zipfile.ZipFile(filepath, 'r') as zip:
    zip.extractall(data_dir)
print("Unzip completes!")





data1 = np.load(data_dir + 'data1/data.npy')
labels1 = np.load(data_dir + 'data1/labels.npy')








type(data1)


data1.shape, labels1.shape





_, ntrials, _, nsamples = data1.shape


ntrials, nsamples





# Create the time vector
t = np.linspace(-0.2, 0.8, nsamples)


t.shape





subject_id = 0
trial_id = 0
channel_id = 0
test = data1[subject_id][trial_id][channel_id]

plt.figure(figsize=(20, 4))
plt.plot(test)  
plt.title('EEG data from subject 0, trial 0, channel 0') # And give it a title.
plt.show()








subject_id = 0
channel_id = 0

EEG = data1[subject_id, :, channel_id, :]
EEG_data = EEG.reshape(160, 100)

labels = labels1[subject_id]


# EEGa will contain columns of data where the corresponding label is 0: basketball
EEGa = EEG_data[labels == 0, :]

# EEGb will contain columns of data where the corresponding label is 1: cat
EEGb = EEG_data[labels == 1, :]


EEGa.shape, EEGb.shape


plt.figure(figsize=(20, 4))         # Resize the figure to make it easier to see
plt.plot(t,EEGa[0], label='Basketball')                 # Plot condition A, trial 1, data vs t,
plt.plot(t,EEGb[0], 'r', label = 'Cat')            # ... and the data from condition B, trial 1,
plt.xlabel('Time [s]')              # Label the x-axis as time.
plt.ylabel('Voltage [$\mu V$]')       # Label the y-axis as voltage.
plt.title('EEG data from basketball (blue) and cat (red), Trial 0') # And give it a title.
plt.hlines(0, t[0], t[-1], 'black', '--')
# Add a vertical line to indicate the stimulus time
plt.plot([0, 0], [-2,2], '--', color='g', lw=2)
plt.legend()
plt.savefig('images/ppt/EEG-binary_classification.png')
plt.show()








plt.figure(figsize=(20, 4))         # Resize the figure to make it easier to see
plt.plot(t, EEGa.mean(0), label='Basketball')        # Plot the ERP of condition A
plt.plot(t, EEGb.mean(0), 'r', label='Cat')        # Plot the ERP of condition B
plt.xlabel('Time [s]')           # Label the axes
plt.ylabel('Voltage [$\mu V$]')
plt.title('ERP of Basketball and Cat')  # ... provide a title
plt.hlines(0, t[0], t[-1], 'black', '--')
# Add a vertical line to indicate the stimulus time
plt.plot([0, 0], [-0.5,0.5], '--', color='g', lw=2)
plt.legend()
plt.savefig('images/ppt/ERP-binary-classification.png')
plt.show()                       # ... and show the plot





# This is the easiest way to do decoding
# A ready-made function: tbyt_decoding_kfold()
help(tbyt_decoding_kfold)


accuracies = tbyt_decoding_kfold(data1, labels1, n=2, navg=5, time_win=1, time_step=1, nfolds=3, nrepeats=3)








print(accuracies.shape)





# This is the easiest way to plot decoding results
# A ready-made function: plot_tbyt_decoding_acc()
help(plot_tbyt_decoding_acc)


plot_tbyt_decoding_acc(accuracies, start_time=-0.2, end_time=0.8, time_interval=0.01, chance=0.5, p=0.05, 
                       cbpt=False, stats_time=[0, 0.8], color='r', xlim=[-0.2, 0.8], ylim=[0.4, 1])


fig = plt.figure(figsize=(15, 5))         # Resize the figure to make it easier to see
plot_tbyt_decoding_acc(accuracies, start_time=-0.2, end_time=0.8, time_interval=0.01, chance=0.5, p=0.05, 
                       cbpt=True, stats_time=[0, 0.8], color='r', xlim=[-0.2, 0.8], ylim=[0.4, 1])
fig.savefig('images/ppt/decoding-binary-classification.png')











print('================ Demo - Multiclass Classification ================')

id = '1SaDPoY65XdgrymEznQlvVLb3M4z59wAS'
filename = 'data2.zip'
filepath = data_dir + filename

# Download the data
gdown.download(id=id, output=filepath, quiet=False, fuzzy=True)
print('Download completes!')
# unzip the data
with zipfile.ZipFile(filepath, 'r') as zip:
    zip.extractall(data_dir)
print("Unzip completes!")





data2 = np.load(data_dir + 'data2/data.npy')
labels2 = np.load(data_dir + 'data2/labels.npy')





print(np.shape(data2))
print(np.shape(labels2))





_, ntrials, _, nsamples = data2.shape


# Create the time vector
t = np.linspace(-0.5, 1.5, nsamples)


t.shape








subject_id = 0
channel_id = 0

EEG = data2[subject_id, :, channel_id, :]
EEG_data = EEG.reshape(640, 500)

labels = labels2[subject_id]


# EEGa will contain columns of data where the corresponding label is 0
EEGa = EEG_data[labels == 0, :]

# EEGb will contain columns of data where the corresponding others
EEGb = EEG_data[labels != 0, :]


EEGa.shape, EEGb.shape


def visualise_one_vs_all(ax, label, EEG_data, i, degrees):
    # EEGa will contain columns of data where the corresponding label
    EEGa = EEG_data[labels == label, :]

    # EEGb will contain columns of data where the corresponding others
    EEGb = EEG_data[labels != label, :]
    
    #Plot
    ax.plot(t, EEGa.mean(0), label=f'{degrees[i]}')        # Plot the ERP of label ...
    ax.plot(t, EEGb.mean(0), 'r', label='Others')   # Plot the ERP of others
    ax.set_xlabel('Time [s]')           # Label the axes
    ax.set_ylabel('Voltage [$\mu V$]')
    ax.set_title(f'ERP of {degrees[i]} and others')  # ... provide a title
    ax.axvline(x=0, linestyle="--", color="darkgrey")
    ax.axhline(y=0, linestyle="--", color="darkgrey")
    ax.legend()


# Visualize
fig, axs = plt.subplots(nrows=2, ncols=2, sharex=True, figsize=(12, 12))
axs = axs.flatten()
orientations = [0, 1, 14, 15]
degrees = ['$0^0$', '$22.5^0$', '$315^0$', '$337.5^0$'] 
for i, label in enumerate(orientations):
    visualise_one_vs_all(axs[i], label, EEG_data, i, degrees)
plt.suptitle('Multiclass classification using one versus all')
plt.tight_layout() 
plt.savefig('images/ppt/ERP-multiclass-classification.png')
plt.show()                       # ... and show the plot





accuracies = tbyt_decoding_kfold(data2, labels2, n=16, navg=3, time_win=1, time_step=1, nfolds=5, nrepeats=5)





print(accuracies.shape)





plot_tbyt_decoding_acc(accuracies, start_time=-0.5, end_time=1.5, time_interval=0.004, chance=0.0625, p=0.05, 
                       cbpt=False, stats_time=[0, 1.5], color='r', xlim=[-0.2, 1.5], ylim=[0.025, 0.125])


fig = plt.figure(figsize=(15, 5))         # Resize the figure to make it easier to see
plot_tbyt_decoding_acc(accuracies, start_time=-0.5, end_time=1.5, time_interval=0.004, chance=0.0625, p=0.05, 
                       cbpt=True, stats_time=[0, 1.5], color='r', xlim=[-0.2, 1.5], ylim=[0.05, 0.1])
fig.savefig('images/ppt/classification-based-decoding-result.png')














oriRDM = np.zeros([16, 16])
for i in range(16):
    for j in range(16):
        diff = np.abs(i - j)
        if diff <= 8:
            oriRDM[i, j] = diff / 8
        else:
            oriRDM[i, j] = (16 - diff) / 8
print(oriRDM)


oriRDM.shape





conditions = ["0°", "22.5°", "45°", "67.5°", "90°", "112.5°", "135°", "157.5°", "180°",
              "202.5°", "225°", "247.5°", "270°", "292.5°", "315°", "337.5°"]

# A ready-made function: plot_rdm
fig = plt.figure(figsize=(15, 5))         # Resize the figure to make it easier to see
plot_rdm(oriRDM, conditions=conditions, percentile=True)
fig.savefig('images/ppt/rdm-orientations.png')





data2.shape





data2_16conditions = np.zeros([16, 5, 40, 27, 500])
for sub in range(5):
    index = np.zeros([16], dtype=int)
    for i in range(640):
        condition = int(labels2[sub, i])
        data2_16conditions[condition, sub, index[condition]] = data2[sub, i]
        index[condition] = index[condition] + 1


data2_16conditions.shape


# This is the easiest way to calculate RDMs
# A ready-made function: eegRDM()
help(eegRDM)


eegRDMs = eegRDM(data2_16conditions, sub_opt=1, chl_opt=0, time_opt=1, time_win=1, time_step=1)


print(eegRDMs.shape)





def visualise_EEG_RDM(subject_id, time_point):
    EEGrdm = eegRDMs[subject_id,time_point,:,:]
    EEGrdm = EEGrdm.reshape(16,16)
    plot_rdm(EEGrdm, conditions=conditions, percentile=True, title=f"EEG RDM of subject {subject_id} at time point {time_point}")


# A ready-made function: plot_rdm
subject_id = 0
time_point = 0
time_points = [0, 1, 498, 499]
for i, time_point in enumerate(time_points):
    fig = plt.figure(figsize=(10, 10))         # Resize the figure to make it easier to see
    visualise_EEG_RDM(subject_id, time_point)
    fig.savefig(f'images/ppt/eeg-rdm-subject-{subject_id}-timepoint-{time_point}.png')








# This is the easiest way to calculate the similarity
# A ready-made function: rdms_corr()
help(rdms_corr)


similarities = rdms_corr(oriRDM, eegRDMs)


print(similarities.shape)





# This is the easiest way to plot RSA results
# A ready-made function: plot_tbytsim_withstats()
help(plot_tbytsim_withstats)


plot_tbytsim_withstats(similarities, start_time=-0.5, end_time=1.5, time_interval=0.004, p=0.05,
                       cbpt=False, stats_time=[0, 1.5], xlim=[-0.5, 1.5], ylim=[-0.1, 0.3])


fig = plt.figure(figsize=(15, 5))         # Resize the figure to make it easier to see
plot_tbytsim_withstats(similarities, start_time=-0.5, end_time=1.5, time_interval=0.004, p=0.05,
                       cbpt=True, stats_time=[0, 1.5], xlim=[-0.5, 1.5], ylim=[-0.1, 0.3])
fig.savefig('images/ppt/rsa-based-decoding-result.png')



